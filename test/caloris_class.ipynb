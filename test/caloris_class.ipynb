{
 "cells": [
  {
   "cell_type": "code",
   "execution_count": 1,
   "metadata": {},
   "outputs": [
    {
     "name": "stdout",
     "output_type": "stream",
     "text": [
      "{'meals': [{'id': 'meal-1', 'name': 'hamburger', 'calories': 600, 'price': 5}, {'id': 'meal-2', 'name': 'cheese burger', 'calories': 750, 'price': 7}, {'id': 'meal-3', 'name': 'veggie burger', 'calories': 400, 'price': 6}, {'id': 'meal-4', 'name': 'vegan burger', 'calories': 350, 'price': 6}, {'id': 'meal-5', 'name': 'sweet potatoes', 'calories': 230, 'price': 3}, {'id': 'meal-6', 'name': 'salad', 'calories': 15, 'price': 4}, {'id': 'meal-7', 'name': 'iced tea', 'calories': 70, 'price': 2}, {'id': 'meal-8', 'name': 'lemonade', 'calories': 90, 'price': 2}]}\n"
     ]
    }
   ],
   "source": [
    "import json\n",
    "\n",
    "with open(r\"C:\\Users\\z\\Documents\\my_projects\\calories-counter\\test\\data\\meals.json\") as file:\n",
    "\tmeals = json.load(file)\n",
    "\n",
    "print(meals)"
   ]
  },
  {
   "cell_type": "code",
   "execution_count": 2,
   "metadata": {},
   "outputs": [
    {
     "name": "stdout",
     "output_type": "stream",
     "text": [
      "{'combos': [{'id': 'combo-1', 'name': 'cheesy combo', 'meals': ['meal-2', 'meal-5', 'meal-8'], 'price': 11}, {'id': 'combo-2', 'name': 'veggie combo', 'meals': ['meal-3', 'meal-5', 'meal-7'], 'price': 10}, {'id': 'combo-3', 'name': 'vegan combo', 'meals': ['meal-4', 'meal-6', 'meal-8'], 'price': 10}]}\n"
     ]
    }
   ],
   "source": [
    "import json\n",
    "\n",
    "with open(r\"C:\\Users\\z\\Documents\\my_projects\\calories-counter\\test\\data\\combos.json\") as file:\n",
    "\tmeals = json.load(file)\n",
    "\n",
    "print(meals)"
   ]
  }
 ],
 "metadata": {
  "kernelspec": {
   "display_name": "Python 3",
   "language": "python",
   "name": "python3"
  },
  "language_info": {
   "codemirror_mode": {
    "name": "ipython",
    "version": 3
   },
   "file_extension": ".py",
   "mimetype": "text/x-python",
   "name": "python",
   "nbconvert_exporter": "python",
   "pygments_lexer": "ipython3",
   "version": "3.12.0"
  }
 },
 "nbformat": 4,
 "nbformat_minor": 2
}
