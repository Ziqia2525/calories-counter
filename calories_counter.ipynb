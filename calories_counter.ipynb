{
 "cells": [
  {
   "cell_type": "code",
   "execution_count": 2,
   "metadata": {},
   "outputs": [],
   "source": [
    "calories = {\n",
    "   'Hamburger': 600,\n",
    "   'Cheese Burger': 750,\n",
    "   'Veggie Burger': 400,\n",
    "   'Vegan Burger': 350,\n",
    "   'Sweet Potatoes': 230,\n",
    "   'Salad': 15,\n",
    "   'Iced Tea': 70,\n",
    "   'Lemonade': 90,\n",
    "}"
   ]
  },
  {
   "cell_type": "code",
   "execution_count": 3,
   "metadata": {},
   "outputs": [
    {
     "data": {
      "text/plain": [
       "685"
      ]
     },
     "execution_count": 3,
     "metadata": {},
     "output_type": "execute_result"
    }
   ],
   "source": [
    "# Create a calorie counter function\n",
    "\n",
    "\n",
    "def calories_counter(*meals):\n",
    "    total = 0\n",
    "    for meal in meals:\n",
    "        if isinstance(meal, list):\n",
    "            for item in meal:\n",
    "                total += calories[item]\n",
    "        else:\n",
    "            total += calories[meal]\n",
    "\n",
    "    return total\n",
    "\n",
    "single1 = calories_counter('Lemonade')\n",
    "single1\n",
    "list1 = calories_counter('Cheese Burger','Sweet Potatoes','Iced Tea')\n",
    "list1\n",
    "list2 = ['Hamburger','Salad','Iced Tea']\n",
    "calories_counter(list2)"
   ]
  },
  {
   "cell_type": "code",
   "execution_count": 4,
   "metadata": {},
   "outputs": [],
   "source": [
    "combos = {\n",
    "    \"Cheesy Combo\" : [\"Cheese Burger\", \"Sweet Potatoes\", \"Lemonade\"],\n",
    "    \"Veggie Combo\" : [\"Veggie Burger\", \"Sweet Potatoes\", \"Iced Tea\"],\n",
    "    \"Vegan Combo\" : [\"Vegan Burger\", \"Salad\", \"Lemonade\"],\n",
    "}"
   ]
  },
  {
   "cell_type": "code",
   "execution_count": 5,
   "metadata": {},
   "outputs": [
    {
     "data": {
      "text/plain": [
       "1070"
      ]
     },
     "execution_count": 5,
     "metadata": {},
     "output_type": "execute_result"
    }
   ],
   "source": [
    "# Handle combos\n",
    "\n",
    "def calories_counter(*meals):\n",
    "    total = 0\n",
    "    for meal in meals:\n",
    "        if isinstance(meal, list):\n",
    "            for item in meal:\n",
    "                total += calories[item]\n",
    "        elif meal in combos:\n",
    "            for item in combos[meal]:\n",
    "                total += calories[item]\n",
    "        else:\n",
    "            total += calories[meal]\n",
    "\n",
    "    return total\n",
    "\n",
    "test2 = ['Hamburger','Salad','Iced Tea']\n",
    "calories_counter(test2)\n",
    "test1 = calories_counter('Cheesy Combo')\n",
    "test1"
   ]
  },
  {
   "cell_type": "code",
   "execution_count": 6,
   "metadata": {},
   "outputs": [
    {
     "name": "stdout",
     "output_type": "stream",
     "text": [
      "The item is not on the menu\n"
     ]
    },
    {
     "data": {
      "text/plain": [
       "1070"
      ]
     },
     "execution_count": 6,
     "metadata": {},
     "output_type": "execute_result"
    }
   ],
   "source": [
    "# Handle errors\n",
    "\n",
    "def calories_counter(*meals):\n",
    "    total = 0\n",
    "    for meal in meals:\n",
    "        try:\n",
    "          if isinstance(meal, list):\n",
    "            for item in meal:\n",
    "                total += calories[item]\n",
    "          elif meal in combos:\n",
    "            for item in combos[meal]:\n",
    "                total += calories[item]\n",
    "          else:\n",
    "            total += calories[meal]\n",
    "        except KeyError:\n",
    "            total = None\n",
    "            print('The item is not on the menu')\n",
    "        \n",
    "    return total\n",
    "\n",
    "test1 = calories_counter('cola')\n",
    "test1\n",
    "test2 = calories_counter('Cheesy Combo')\n",
    "test2"
   ]
  },
  {
   "cell_type": "code",
   "execution_count": 16,
   "metadata": {},
   "outputs": [],
   "source": [
    "meals = [\n",
    "    {\n",
    "        \"id\": \"meal-1\",\n",
    "        \"name\": \"hamburger\",\n",
    "        \"calories\": 600,\n",
    "        \"price\": 5\n",
    "    },\n",
    "    {\n",
    "        \"id\": \"meal-2\",\n",
    "        \"name\": \"cheese burger\",\n",
    "        \"calories\": 750,\n",
    "        \"price\": 7\n",
    "\t\t},\n",
    "    {\n",
    "        \"id\": \"meal-3\",\n",
    "        \"name\": \"veggie burger\",\n",
    "        \"calories\": 400,\n",
    "        \"price\": 6\n",
    "\t\t},\n",
    "    {\n",
    "        \"id\": \"meal-4\",\n",
    "        \"name\": \"vegan burger\",\n",
    "        \"calories\": 350,\n",
    "        \"price\": 6\n",
    "\t\t},\n",
    "    {\n",
    "        \"id\": \"meal-5\",\n",
    "        \"name\": \"sweet potatoes\",\n",
    "        \"calories\": 230,\n",
    "        \"price\": 3\n",
    "\t\t},\n",
    "    {\n",
    "        \"id\": \"meal-6\",\n",
    "        \"name\": \"salad\",\n",
    "        \"calories\": 15,\n",
    "        \"price\": 4\n",
    "\t\t},\n",
    "    {\n",
    "        \"id\": \"meal-7\",\n",
    "        \"name\": \"iced tea\",\n",
    "        \"calories\": 70,\n",
    "        \"price\": 2\n",
    "\t\t},\n",
    "    {\n",
    "        \"id\": \"meal-8\",\n",
    "        \"name\": \"lemonade\",\n",
    "        \"calories\": 90,\n",
    "        \"price\": 2\n",
    "\t\t}\n",
    "]\n",
    "\n",
    "combos = [\n",
    "    {\n",
    "        \"id\": \"combo-1\",\n",
    "        \"name\": \"cheesy combo\",\n",
    "        \"meals\": [\"meal-2\", \"meal-5\", \"meal-8\"],\n",
    "        \"price\": 11,\n",
    "    },\n",
    "    {\n",
    "        \"id\": \"combo-2\",\n",
    "        \"name\": \"veggie combo\",\n",
    "        \"meals\": [\"meal-3\", \"meal-5\", \"meal-7\"],\n",
    "        \"price\": 10,\n",
    "    },\n",
    "    {\n",
    "        \"id\": \"combo-3\",\n",
    "        \"name\": \"vegan combo\",\n",
    "        \"meals\": [\"meal-4\", \"meal-6\", \"meal-8\"],\n",
    "        \"price\": 10,\n",
    "    }\n",
    "]"
   ]
  },
  {
   "cell_type": "code",
   "execution_count": 17,
   "metadata": {},
   "outputs": [],
   "source": [
    "# Use more complex data\n",
    "\n",
    "meals_dict = {meal['name']:meal['calories'] for meal in meals}\n",
    "meals_dict_id = {meal['id']:meal['calories'] for meal in meals}\n",
    "combos_dict = {combo['name']: combo['meals'] for combo in combos}"
   ]
  },
  {
   "cell_type": "code",
   "execution_count": 18,
   "metadata": {},
   "outputs": [
    {
     "name": "stdout",
     "output_type": "stream",
     "text": [
      "The item is not on the menu\n"
     ]
    },
    {
     "data": {
      "text/plain": [
       "685"
      ]
     },
     "execution_count": 18,
     "metadata": {},
     "output_type": "execute_result"
    }
   ],
   "source": [
    "def com_calories_counter(*meals):\n",
    "    total = 0\n",
    "    for meal in meals:\n",
    "        try:\n",
    "          if isinstance(meal, list):\n",
    "            for item in meal:\n",
    "                total += meals_dict[item]\n",
    "          elif meal in combos_dict:\n",
    "            for item in combos_dict[meal]:\n",
    "                total += meals_dict_id[item]\n",
    "          else:\n",
    "            total += meals_dict[meal]\n",
    "        except KeyError:\n",
    "            total = None\n",
    "            print('The item is not on the menu')\n",
    "        \n",
    "    return total\n",
    "\n",
    "test1 = com_calories_counter('veggie combo')\n",
    "test1\n",
    "test2 = com_calories_counter('cola')\n",
    "test3 = ['hamburger','salad','iced tea']\n",
    "com_calories_counter(test3)"
   ]
  },
  {
   "cell_type": "code",
   "execution_count": 19,
   "metadata": {},
   "outputs": [],
   "source": [
    "# Create a price counter function\n",
    "\n",
    "meals_price_dict = {meal['name']:meal['price'] for meal in meals}\n",
    "meals_price_dict_id = {meal['id']:meal['price'] for meal in meals}\n",
    "combos_price_dict = {combo['name']: combo['price'] for combo in combos}"
   ]
  },
  {
   "cell_type": "code",
   "execution_count": 20,
   "metadata": {},
   "outputs": [
    {
     "name": "stdout",
     "output_type": "stream",
     "text": [
      "The item is not on the menu\n"
     ]
    },
    {
     "data": {
      "text/plain": [
       "10"
      ]
     },
     "execution_count": 20,
     "metadata": {},
     "output_type": "execute_result"
    }
   ],
   "source": [
    "def price_counter(*meals):\n",
    "    total = 0\n",
    "    for meal in meals:\n",
    "        try:\n",
    "          if isinstance(meal, list):\n",
    "            for item in meal:\n",
    "                total += meals_price_dict[item]\n",
    "          elif meal in combos_price_dict:\n",
    "                total += combos_price_dict[meal]\n",
    "          else:\n",
    "            total += meals_price_dict[meal]\n",
    "        except KeyError:\n",
    "            total = None\n",
    "            print('The item is not on the menu')\n",
    "        \n",
    "    return total\n",
    "\n",
    "\n",
    "test1 = price_counter('cheesy combo')\n",
    "test1\n",
    "test2 = price_counter('cola')\n",
    "test3 = ['hamburger','sweet potatoes','iced tea']\n",
    "price_counter(test3)"
   ]
  },
  {
   "cell_type": "code",
   "execution_count": 21,
   "metadata": {},
   "outputs": [],
   "source": [
    "from datetime import datetime"
   ]
  },
  {
   "cell_type": "code",
   "execution_count": 53,
   "metadata": {},
   "outputs": [],
   "source": [
    "class Order:\n",
    "    counter = 0\n",
    "\n",
    "    def __init__(self, items, date=None):\n",
    "        if isinstance(items, str):\n",
    "           items = [items]\n",
    "        self.order_id = f\"ORDER-{Order.counter + 1}\"\n",
    "        Order.counter += 1\n",
    "        self.order_accepted = False\n",
    "        self.order_refused_reason = None\n",
    "        self.date = date if date else datetime.now()\n",
    "        self.items = items\n",
    "\n",
    "    @property\n",
    "    def calories(self):\n",
    "        total_calories = com_calories_counter(*self.items)\n",
    "        if total_calories is None:\n",
    "            self.order_accepted = False\n",
    "            self.order_refused_reason = \"No item is ordered\"\n",
    "        elif total_calories > 2000:\n",
    "            self.order_accepted = False\n",
    "            self.order_refused_reason = \"Total calories exceed 2000\"\n",
    "        else:\n",
    "            self.order_accepted = True\n",
    "            print(f\"Order is accepted, total calorie:{total_calories}\")\n",
    "        return total_calories\n",
    "\n",
    "    @property\n",
    "    def price(self):\n",
    "        total_price = price_counter(*self.items)\n",
    "        if total_price is None:\n",
    "            self.order_accepted = False\n",
    "            self.order_refused_reason = \"No item is ordered\"\n",
    "        else:\n",
    "            self.order_accepted = True\n",
    "            print(f\"Order is accepted, price:{total_price}\")\n",
    "        return total_price\n",
    "\n",
    "    def check_order_acceptance(self):\n",
    "        self.calories \n",
    "        self.price\n",
    "        print(self.date)"
   ]
  },
  {
   "cell_type": "code",
   "execution_count": 55,
   "metadata": {},
   "outputs": [
    {
     "name": "stdout",
     "output_type": "stream",
     "text": [
      "Order is accepted, total calorie:1070\n",
      "Order is accepted, price:11\n",
      "2023-11-14 22:21:02.741240\n"
     ]
    }
   ],
   "source": [
    "order=Order(['cheesy combo'])\n",
    "order.check_order_acceptance()"
   ]
  },
  {
   "cell_type": "code",
   "execution_count": 54,
   "metadata": {},
   "outputs": [
    {
     "name": "stdout",
     "output_type": "stream",
     "text": [
      "Order is accepted, total calorie:1015\n",
      "Order is accepted, price:15\n",
      "2023-11-14 22:20:57.173581\n"
     ]
    }
   ],
   "source": [
    "order = Order([\"hamburger\", \"veggie burger\", \"salad\"])\n",
    "order.check_order_acceptance()"
   ]
  },
  {
   "cell_type": "code",
   "execution_count": 56,
   "metadata": {},
   "outputs": [
    {
     "name": "stdout",
     "output_type": "stream",
     "text": [
      "The item is not on the menu\n",
      "The item is not on the menu\n",
      "2023-11-14 22:21:05.371512\n"
     ]
    }
   ],
   "source": [
    "order = Order([\"cola\"])\n",
    "order.check_order_acceptance()"
   ]
  },
  {
   "cell_type": "code",
   "execution_count": 59,
   "metadata": {},
   "outputs": [
    {
     "name": "stdout",
     "output_type": "stream",
     "text": [
      "Order is accepted, total calorie:600\n",
      "Order is accepted, price:5\n",
      "2006\n"
     ]
    }
   ],
   "source": [
    "order = Order(\"hamburger\",2006)\n",
    "order.check_order_acceptance()"
   ]
  }
 ],
 "metadata": {
  "kernelspec": {
   "display_name": "Python 3",
   "language": "python",
   "name": "python3"
  },
  "language_info": {
   "codemirror_mode": {
    "name": "ipython",
    "version": 3
   },
   "file_extension": ".py",
   "mimetype": "text/x-python",
   "name": "python",
   "nbconvert_exporter": "python",
   "pygments_lexer": "ipython3",
   "version": "3.12.0"
  }
 },
 "nbformat": 4,
 "nbformat_minor": 2
}
