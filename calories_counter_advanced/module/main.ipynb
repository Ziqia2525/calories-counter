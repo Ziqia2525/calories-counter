{
 "cells": [
  {
   "cell_type": "code",
   "execution_count": 3,
   "metadata": {},
   "outputs": [],
   "source": [
    "from calories_counter import calories_counter"
   ]
  },
  {
   "cell_type": "code",
   "execution_count": 4,
   "metadata": {},
   "outputs": [
    {
     "name": "stdout",
     "output_type": "stream",
     "text": [
      "1300\n"
     ]
    }
   ],
   "source": [
    "print(calories_counter([\"Hamburger\",\"Veggie Combo\"]))"
   ]
  },
  {
   "cell_type": "code",
   "execution_count": 5,
   "metadata": {},
   "outputs": [
    {
     "ename": "MealTooBigError",
     "evalue": "Meal is too big! 3440 is too much!",
     "output_type": "error",
     "traceback": [
      "\u001b[1;31m---------------------------------------------------------------------------\u001b[0m",
      "\u001b[1;31mMealTooBigError\u001b[0m                           Traceback (most recent call last)",
      "\u001b[1;32mc:\\Users\\z\\Documents\\my_projects\\calories-counter\\calories_counter_advanced\\module\\main.ipynb Cell 3\u001b[0m line \u001b[0;36m1\n\u001b[1;32m----> <a href='vscode-notebook-cell:/c%3A/Users/z/Documents/my_projects/calories-counter/calories_counter_advanced/module/main.ipynb#W2sZmlsZQ%3D%3D?line=0'>1</a>\u001b[0m \u001b[39mprint\u001b[39m(calories_counter([\u001b[39m\"\u001b[39;49m\u001b[39mHamburger\u001b[39;49m\u001b[39m\"\u001b[39;49m,\u001b[39m\"\u001b[39;49m\u001b[39mVeggie Combo\u001b[39;49m\u001b[39m\"\u001b[39;49m,\u001b[39m\"\u001b[39;49m\u001b[39mCheesy Combo\u001b[39;49m\u001b[39m\"\u001b[39;49m,\u001b[39m\"\u001b[39;49m\u001b[39mCheesy Combo\u001b[39;49m\u001b[39m\"\u001b[39;49m]))\n",
      "File \u001b[1;32mc:\\Users\\z\\Documents\\my_projects\\calories-counter\\calories_counter_advanced\\module\\calories_counter.py:33\u001b[0m, in \u001b[0;36mcalories_counter\u001b[1;34m(items)\u001b[0m\n\u001b[0;32m     31\u001b[0m         \u001b[39mprint\u001b[39m(\u001b[39mf\u001b[39m\u001b[39m\"\u001b[39m\u001b[39m{\u001b[39;00mitem\u001b[39m}\u001b[39;00m\u001b[39m is not in the menu.\u001b[39m\u001b[39m\"\u001b[39m)\n\u001b[0;32m     32\u001b[0m \u001b[39mif\u001b[39;00m total \u001b[39m>\u001b[39m \u001b[39m2000\u001b[39m:\n\u001b[1;32m---> 33\u001b[0m       \u001b[39mraise\u001b[39;00m MealTooBigError(total)\n\u001b[0;32m     35\u001b[0m \u001b[39mreturn\u001b[39;00m total\n",
      "\u001b[1;31mMealTooBigError\u001b[0m: Meal is too big! 3440 is too much!"
     ]
    }
   ],
   "source": [
    "print(calories_counter([\"Hamburger\",\"Veggie Combo\",\"Cheesy Combo\",\"Cheesy Combo\"]))"
   ]
  },
  {
   "cell_type": "code",
   "execution_count": 9,
   "metadata": {},
   "outputs": [
    {
     "name": "stdout",
     "output_type": "stream",
     "text": [
      "[{'id': 'combo-1', 'name': 'cheesy combo', 'meals': ['meal-2', 'meal-5', 'meal-8'], 'price': 11}, {'id': 'combo-2', 'name': 'veggie combo', 'meals': ['meal-3', 'meal-5', 'meal-7'], 'price': 10}, {'id': 'combo-3', 'name': 'vegan combo', 'meals': ['meal-4', 'meal-6', 'meal-8'], 'price': 10}]\n"
     ]
    }
   ],
   "source": [
    "from data import combos,meals\n",
    "\n",
    "print(combos)"
   ]
  },
  {
   "cell_type": "code",
   "execution_count": 10,
   "metadata": {},
   "outputs": [
    {
     "name": "stdout",
     "output_type": "stream",
     "text": [
      "{'combo-1': {'id': 'combo-1', 'name': 'cheesy combo', 'meals': ['meal-2', 'meal-5', 'meal-8'], 'price': 11}, 'combo-2': {'id': 'combo-2', 'name': 'veggie combo', 'meals': ['meal-3', 'meal-5', 'meal-7'], 'price': 10}, 'combo-3': {'id': 'combo-3', 'name': 'vegan combo', 'meals': ['meal-4', 'meal-6', 'meal-8'], 'price': 10}}\n"
     ]
    }
   ],
   "source": [
    "\n",
    "combos = {combo[\"id\"]:combo for combo in combos}\n",
    "print(combos)"
   ]
  }
 ],
 "metadata": {
  "kernelspec": {
   "display_name": ".venv",
   "language": "python",
   "name": "python3"
  },
  "language_info": {
   "codemirror_mode": {
    "name": "ipython",
    "version": 3
   },
   "file_extension": ".py",
   "mimetype": "text/x-python",
   "name": "python",
   "nbconvert_exporter": "python",
   "pygments_lexer": "ipython3",
   "version": "3.12.0"
  }
 },
 "nbformat": 4,
 "nbformat_minor": 2
}
